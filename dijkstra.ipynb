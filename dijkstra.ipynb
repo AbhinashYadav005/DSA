{
 "cells": [
  {
   "cell_type": "code",
   "execution_count": 3,
   "id": "f8b718f6",
   "metadata": {},
   "outputs": [],
   "source": [
    "G={\n",
    "    's':{'t':10, 'y': 15},\n",
    "    't':{'y':2, 'x':1},\n",
    "    'x':{'z':6},\n",
    "    'y':{'x':9, 't':3,'z':2},\n",
    "    'z':{'x':6, 's':7}\n",
    "}"
   ]
  },
  {
   "cell_type": "code",
   "execution_count": 4,
   "id": "2a629d79",
   "metadata": {},
   "outputs": [
    {
     "ename": "SyntaxError",
     "evalue": "expected ':' (1292822363.py, line 6)",
     "output_type": "error",
     "traceback": [
      "  \u001b[36mCell\u001b[39m\u001b[36m \u001b[39m\u001b[32mIn[4]\u001b[39m\u001b[32m, line 6\u001b[39m\n\u001b[31m    \u001b[39m\u001b[31mfor vertex in G.keys()\u001b[39m\n                          ^\n\u001b[31mSyntaxError\u001b[39m\u001b[31m:\u001b[39m expected ':'\n"
     ]
    }
   ],
   "source": [
    "import math \n",
    "\n",
    "def INITIALIZE_SINGLE_SOURCE(G,s):\n",
    "    cost = dict()\n",
    "    prev = dict()\n",
    "    for vertex in G.keys()\n",
    "        cost[vertex] = math.inf\n",
    "        prev[vertex] = \"\"\n",
    "\n",
    "    cost[s] = 0\n",
    "    return cost, prev"
   ]
  },
  {
   "cell_type": "code",
   "execution_count": null,
   "id": "28572d5a",
   "metadata": {},
   "outputs": [],
   "source": [
    "def RELAX(G, u, v, cost, prev):\n",
    "    if cost[v] > cost[u] + G[u][v]:\n",
    "        cost[v] = cost[u] + G[u][v]\n",
    "        prev[v] = u\n",
    "    return cost, prev"
   ]
  },
  {
   "cell_type": "code",
   "execution_count": 6,
   "id": "f60526ec",
   "metadata": {},
   "outputs": [],
   "source": [
    "from queue import PriorityQueue\n",
    "def DJ(G, s):\n",
    "    cost, prev = INITIALIZE_SINGLE_SOURCE(G, s)\n",
    "    PQ = PriorityQueue()\n",
    "    for vertex in G.keys():\n",
    "        PQ.put((cost[vertex], vertex))\n",
    "    visited = []\n",
    "    while(len(visited) != len(G.keys())):\n",
    "        _, currentVertex = PQ.get()\n",
    "        visited.append(currentVertex)\n",
    "        for chimeki in G[currentVertex].keys():\n",
    "            if chimeki not in visited:\n",
    "                cost, prev = RELAX(G, currentVertex, chimeki, cost, prev)\n",
    "                PQ.put((cost[chimeki], chimeki))\n",
    "    return cost, prev\n",
    "    "
   ]
  },
  {
   "cell_type": "code",
   "execution_count": 7,
   "id": "a91eef57",
   "metadata": {},
   "outputs": [
    {
     "ename": "NameError",
     "evalue": "name 'INITIALIZE_SINGLE_SOURCE' is not defined",
     "output_type": "error",
     "traceback": [
      "\u001b[31m---------------------------------------------------------------------------\u001b[39m",
      "\u001b[31mNameError\u001b[39m                                 Traceback (most recent call last)",
      "\u001b[36mCell\u001b[39m\u001b[36m \u001b[39m\u001b[32mIn[7]\u001b[39m\u001b[32m, line 2\u001b[39m\n\u001b[32m      1\u001b[39m s = \u001b[33m'\u001b[39m\u001b[33ms\u001b[39m\u001b[33m'\u001b[39m\n\u001b[32m----> \u001b[39m\u001b[32m2\u001b[39m cost, prev = \u001b[43mDJ\u001b[49m\u001b[43m(\u001b[49m\u001b[43mG\u001b[49m\u001b[43m,\u001b[49m\u001b[43m \u001b[49m\u001b[43ms\u001b[49m\u001b[43m)\u001b[49m\n",
      "\u001b[36mCell\u001b[39m\u001b[36m \u001b[39m\u001b[32mIn[6]\u001b[39m\u001b[32m, line 3\u001b[39m, in \u001b[36mDJ\u001b[39m\u001b[34m(G, s)\u001b[39m\n\u001b[32m      2\u001b[39m \u001b[38;5;28;01mdef\u001b[39;00m\u001b[38;5;250m \u001b[39m\u001b[34mDJ\u001b[39m(G, s):\n\u001b[32m----> \u001b[39m\u001b[32m3\u001b[39m     cost, prev = \u001b[43mINITIALIZE_SINGLE_SOURCE\u001b[49m(G, s)\n\u001b[32m      4\u001b[39m     PQ = PriorityQueue()\n\u001b[32m      5\u001b[39m     \u001b[38;5;28;01mfor\u001b[39;00m vertex \u001b[38;5;129;01min\u001b[39;00m G.keys():\n",
      "\u001b[31mNameError\u001b[39m: name 'INITIALIZE_SINGLE_SOURCE' is not defined"
     ]
    }
   ],
   "source": [
    "s = 's'\n",
    "cost, prev = DJ(G, s)"
   ]
  },
  {
   "cell_type": "code",
   "execution_count": null,
   "id": "90e5040d",
   "metadata": {},
   "outputs": [
    {
     "ename": "NameError",
     "evalue": "name 'G' is not defined",
     "output_type": "error",
     "traceback": [
      "\u001b[31m---------------------------------------------------------------------------\u001b[39m",
      "\u001b[31mNameError\u001b[39m                                 Traceback (most recent call last)",
      "\u001b[36mCell\u001b[39m\u001b[36m \u001b[39m\u001b[32mIn[2]\u001b[39m\u001b[32m, line 2\u001b[39m\n\u001b[32m      1\u001b[39m s = \u001b[33m'\u001b[39m\u001b[33ms\u001b[39m\u001b[33m'\u001b[39m\n\u001b[32m----> \u001b[39m\u001b[32m2\u001b[39m cost, prev = DJ(\u001b[43mG\u001b[49m, s)\n\u001b[32m      4\u001b[39m \u001b[38;5;28;01mdef\u001b[39;00m\u001b[38;5;250m \u001b[39m\u001b[34mreconstruct_path\u001b[39m(vertex, prev):\n\u001b[32m      5\u001b[39m     path = vertex\n",
      "\u001b[31mNameError\u001b[39m: name 'G' is not defined"
     ]
    }
   ],
   "source": [
    "\n",
    "\n",
    "def reconstruct_path(vertex, prev):\n",
    "    path = vertex\n",
    "    while prev[vertex] != ' ':\n",
    "        path = prev[vertex] + '->' + path\n",
    "        vertex = prev[vertex]\n",
    "    return path\n",
    "\n",
    "for vertex in G.keys():\n",
    "    print(f'shortest path from {s} to {vertex}:{reconstruct_path(vertex,prev)}')\n",
    "    print(f'Cost is {cost[vertex]}')"
   ]
  },
  {
   "cell_type": "code",
   "execution_count": null,
   "id": "43b3abe3",
   "metadata": {},
   "outputs": [],
   "source": []
  }
 ],
 "metadata": {
  "kernelspec": {
   "display_name": ".venv",
   "language": "python",
   "name": "python3"
  },
  "language_info": {
   "codemirror_mode": {
    "name": "ipython",
    "version": 3
   },
   "file_extension": ".py",
   "mimetype": "text/x-python",
   "name": "python",
   "nbconvert_exporter": "python",
   "pygments_lexer": "ipython3",
   "version": "3.13.5"
  }
 },
 "nbformat": 4,
 "nbformat_minor": 5
}
